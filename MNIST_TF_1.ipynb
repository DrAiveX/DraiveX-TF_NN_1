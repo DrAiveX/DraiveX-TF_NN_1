{
 "cells": [
  {
   "cell_type": "code",
   "execution_count": 81,
   "metadata": {
    "collapsed": false
   },
   "outputs": [],
   "source": [
    "import tensorflow as tf\n",
    "from tensorflow.examples.tutorials.mnist import input_data"
   ]
  },
  {
   "cell_type": "raw",
   "metadata": {},
   "source": [
    "## Creating Variable and Placeholders"
   ]
  },
  {
   "cell_type": "code",
   "execution_count": 82,
   "metadata": {
    "collapsed": false
   },
   "outputs": [],
   "source": [
    "X=tf.placeholder(tf.float32,[None,28*28*1])\n",
    "W=tf.Variable(tf.zeros([28*28*1,10]))\n",
    "b=tf.Variable(tf.zeros([10]))\n",
    "Y=tf.nn.softmax(tf.matmul(X,W)+b)\n",
    "Y_=tf.placeholder(tf.float32,[None,10])\n",
    "init=tf.initialize_all_variables()"
   ]
  },
  {
   "cell_type": "markdown",
   "metadata": {},
   "source": [
    "## Creating Loss Function"
   ]
  },
  {
   "cell_type": "code",
   "execution_count": 83,
   "metadata": {
    "collapsed": true
   },
   "outputs": [],
   "source": [
    "cross_entropy=-tf.reduce_sum(Y_*tf.log(Y))"
   ]
  },
  {
   "cell_type": "code",
   "execution_count": 84,
   "metadata": {
    "collapsed": false
   },
   "outputs": [],
   "source": [
    "is_correct=tf.equal(tf.argmax(Y,1),tf.argmax(Y_,1))\n",
    "accuracy=tf.reduce_mean(tf.cast(is_correct,tf.float32))"
   ]
  },
  {
   "cell_type": "code",
   "execution_count": 85,
   "metadata": {
    "collapsed": false
   },
   "outputs": [
    {
     "name": "stdout",
     "output_type": "stream",
     "text": [
      "Extracting MNIST_Data/train-images-idx3-ubyte.gz\n",
      "Extracting MNIST_Data/train-labels-idx1-ubyte.gz\n",
      "Extracting MNIST_Data/t10k-images-idx3-ubyte.gz\n",
      "Extracting MNIST_Data/t10k-labels-idx1-ubyte.gz\n"
     ]
    }
   ],
   "source": [
    "optimizer=tf.train.GradientDescentOptimizer(0.003)\n",
    "m=optimizer.minimize(cross_entropy)\n",
    "sess=tf.Session()\n",
    "sess.run(init)\n",
    "mnist=input_data.read_data_sets(\"MNIST_Data/\",one_hot=True)"
   ]
  },
  {
   "cell_type": "code",
   "execution_count": 86,
   "metadata": {
    "collapsed": false
   },
   "outputs": [],
   "source": [
    "for i in range(1000):\n",
    "    batch=mnist.train.next_batch(100)\n",
    "    b={X:batch[0],Y_:batch[1]}\n",
    "    sess.run(m,feed_dict=b)"
   ]
  },
  {
   "cell_type": "code",
   "execution_count": 94,
   "metadata": {
    "collapsed": false
   },
   "outputs": [
    {
     "data": {
      "text/plain": [
       "[0.9157, 2950.3037]"
      ]
     },
     "execution_count": 94,
     "metadata": {},
     "output_type": "execute_result"
    }
   ],
   "source": [
    "b={X:mnist.test.images,Y_:mnist.test.labels}\n",
    "sess.run([accuracy,cross_entropy],feed_dict=b)t"
   ]
  }
 ],
 "metadata": {
  "kernelspec": {
   "display_name": "Python 2",
   "language": "python",
   "name": "python2"
  },
  "language_info": {
   "codemirror_mode": {
    "name": "ipython",
    "version": 2
   },
   "file_extension": ".py",
   "mimetype": "text/x-python",
   "name": "python",
   "nbconvert_exporter": "python",
   "pygments_lexer": "ipython2",
   "version": "2.7.6"
  }
 },
 "nbformat": 4,
 "nbformat_minor": 0
}
